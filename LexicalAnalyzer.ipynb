{
 "cells": [
  {
   "cell_type": "code",
   "execution_count": 4,
   "metadata": {},
   "outputs": [
    {
     "name": "stdout",
     "output_type": "stream",
     "text": [
      "[('SYMBOL', '('), ('IDENTIFIER', 'a'), ('SYMBOL', '+'), ('IDENTIFIER', 'b'), ('SYMBOL', ')'), ('SYMBOL', '*'), ('SYMBOL', '('), ('IDENTIFIER', 'c'), ('SYMBOL', '-'), ('IDENTIFIER', 'd'), ('SYMBOL', ')'), ('SYMBOL', '+'), ('IDENTIFIER', 'e')]\n"
     ]
    }
   ],
   "source": [
    "import re\n",
    "\n",
    "class LexicalAnalyzer:\n",
    "    \n",
    "    def __init__(self) -> None:\n",
    "        pass\n",
    "    \n",
    "    def return_token(self,expression):\n",
    "        \n",
    "        \n",
    "        tokens = []\n",
    "        current_token = ''\n",
    "        for c in expression:\n",
    "            if c.isspace():\n",
    "            \n",
    "                if current_token:\n",
    "                    tokens.append(current_token)\n",
    "                    current_token = ''\n",
    "            elif c in ['+', '-', '*', '/', '(', ')', '=']:\n",
    "                \n",
    "                if current_token:\n",
    "                    tokens.append(current_token)\n",
    "                    current_token = ''\n",
    "                tokens.append(c)\n",
    "            else:\n",
    "                \n",
    "                current_token += c\n",
    "        \n",
    "        if current_token:\n",
    "            tokens.append(current_token)\n",
    "        \n",
    "        \n",
    "        number_pattern = r'\\d+'\n",
    "        identifier_pattern = r'[a-zA-Z_]+'\n",
    "        \n",
    "        \n",
    "        output = []\n",
    "        for token in tokens:\n",
    "            if re.match(number_pattern, token):\n",
    "                output.append(('NUMBER', token))\n",
    "            elif re.match(identifier_pattern, token):\n",
    "                output.append(('IDENTIFIER', token))\n",
    "            else:\n",
    "                output.append(('SYMBOL', token))\n",
    "        return output\n",
    "    \n",
    "    def takeinput(self):\n",
    "        expression = input(\"Enter the Expression in the form of a + b: \")\n",
    "        return expression \n",
    "        pass\n",
    "\n",
    "obj = LexicalAnalyzer()\n",
    "expression = obj.takeinput()\n",
    "output = obj.return_token(expression) \n",
    "print(output)\n"
   ]
  }
 ],
 "metadata": {
  "kernelspec": {
   "display_name": "Python 3",
   "language": "python",
   "name": "python3"
  },
  "language_info": {
   "codemirror_mode": {
    "name": "ipython",
    "version": 3
   },
   "file_extension": ".py",
   "mimetype": "text/x-python",
   "name": "python",
   "nbconvert_exporter": "python",
   "pygments_lexer": "ipython3",
   "version": "3.11.0 (main, Oct 24 2022, 18:26:48) [MSC v.1933 64 bit (AMD64)]"
  },
  "orig_nbformat": 4,
  "vscode": {
   "interpreter": {
    "hash": "379fe8e10ded02fa94a29b4b37a41c7d80f19320dc2f2cadbccf353975fbaaa0"
   }
  }
 },
 "nbformat": 4,
 "nbformat_minor": 2
}
